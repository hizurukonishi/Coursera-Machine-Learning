{
 "cells": [
  {
   "cell_type": "markdown",
   "metadata": {},
   "source": [
    "## Multiple linear regression (重回帰）\n",
    "\n",
    "Week1で行った、単回帰の説明変数が複数になっただけ。\n",
    "\n",
    "Notation\n",
    "\n",
    "n : 被説明変数(feature)の数\n",
    "\n",
    "m : データ数（一般的な統計学の文脈だとNがデータ数なので混乱に注意）\n",
    "\n",
    "y : 被説明変数 [ m, 1 ] vector\n",
    "\n",
    "X : 説明変数 [ m, n ] matrix\n",
    "\n",
    "theta : パラメタ（重み）[ n, 1 ] vector\n",
    "\n",
    "$$ y = X \\theta + \\epsilon$$\n",
    "\n",
    "で誤差（ε）を最小にするパラメタ（θ）を見つける問題。\n",
    "\n",
    "Week2では、この問題を数値的手法、解析的手法の両方で解く。\n"
   ]
  },
  {
   "cell_type": "code",
   "execution_count": 1,
   "metadata": {
    "collapsed": false
   },
   "outputs": [],
   "source": [
    "import numpy as np\n",
    "import pandas as pd\n",
    "import matplotlib.pyplot as plt\n",
    "%matplotlib inline"
   ]
  },
  {
   "cell_type": "markdown",
   "metadata": {},
   "source": [
    "## Load data"
   ]
  },
  {
   "cell_type": "code",
   "execution_count": 15,
   "metadata": {
    "collapsed": false
   },
   "outputs": [],
   "source": [
    "data = np.loadtxt('C:/Users/a5136731/Desktop/tmpSugi/ex1/ex1data2.txt',delimiter=',',dtype='float')\n",
    "y = data[:,(2)]\n",
    "y = y[:, np.newaxis]\n",
    "X = data[:,(0,1)]\n",
    "m = X.shape[0]"
   ]
  },
  {
   "cell_type": "markdown",
   "metadata": {
    "slideshow": {
     "slide_type": "-"
    }
   },
   "source": [
    "## Feature scaling\n",
    "スケーリング前のデータの統計量"
   ]
  },
  {
   "cell_type": "code",
   "execution_count": 16,
   "metadata": {
    "collapsed": false
   },
   "outputs": [
    {
     "data": {
      "text/html": [
       "<div>\n",
       "<table border=\"1\" class=\"dataframe\">\n",
       "  <thead>\n",
       "    <tr style=\"text-align: right;\">\n",
       "      <th></th>\n",
       "      <th>N</th>\n",
       "      <th>Avg</th>\n",
       "      <th>Med</th>\n",
       "      <th>Std</th>\n",
       "    </tr>\n",
       "  </thead>\n",
       "  <tbody>\n",
       "    <tr>\n",
       "      <th>X0</th>\n",
       "      <td>47</td>\n",
       "      <td>2000.680851</td>\n",
       "      <td>1888.0</td>\n",
       "      <td>786.202619</td>\n",
       "    </tr>\n",
       "    <tr>\n",
       "      <th>X1</th>\n",
       "      <td>47</td>\n",
       "      <td>3.170213</td>\n",
       "      <td>3.0</td>\n",
       "      <td>0.752843</td>\n",
       "    </tr>\n",
       "  </tbody>\n",
       "</table>\n",
       "</div>"
      ],
      "text/plain": [
       "     N          Avg     Med         Std\n",
       "X0  47  2000.680851  1888.0  786.202619\n",
       "X1  47     3.170213     3.0    0.752843"
      ]
     },
     "execution_count": 16,
     "metadata": {},
     "output_type": "execute_result"
    }
   ],
   "source": [
    "def basicStat(X):\n",
    "    N = np.size(X,0)\n",
    "    nameList = np.size(X,1) * ['A']\n",
    "    for i in range(0, np.size(X,1)):\n",
    "        nameList[i] = 'X' + str(i)\n",
    "    Avg = np.mean(X,0)\n",
    "    \n",
    "    df = pd.DataFrame({'N' : np.shape(X)[0],\n",
    "                       'Avg' : np.mean(X,0),\n",
    "                       'Med' : np.median(X,0),\n",
    "                       'Std' : np.std(X,0),\n",
    "                      },\n",
    "                     columns = ['N', 'Avg','Med','Std'],\n",
    "                     index = nameList)\n",
    "    return df\n",
    "\n",
    "df = basicStat(X)\n",
    "df      "
   ]
  },
  {
   "cell_type": "markdown",
   "metadata": {},
   "source": [
    "## Feature scaling\n",
    "スケーリング後のデータの統計量\n",
    "\n",
    "### Feature scaling\n",
    "Scalingとは、データの範囲をそろえることを指す。\n",
    "スケールがそろっていない場合、Gradient decentの様な繰り返し計算を行う場合に、\n",
    "変数の大きさが収束に影響を与えてしまうのを防ぐ目的がある。\n",
    "\n",
    "\\begin{align*}& \\; & \\theta_j := \\theta_j - \\alpha \\frac{1}{m} \\sum\\limits_{i=1}^{m} (h_\\theta(x^{(i)}) - y^{(i)}) \\cdot x_j^{(i)} \\; & \\text{for j := 0...n}\\end{align*}\n",
    "\n",
    "\n",
    "Scalingには複数の方法があるが、よく使われるのは2つ\n",
    "\n",
    "Standardization(標準化)\n",
    "\n",
    "$${x^{(i)}_{\\mathrm{std}} = \\frac{x^{(i)} - \\mu}{\\sigma}}$$\n",
    "\n",
    "データを、標準正規分布に従うように変更する。\n",
    "正規分布なので統計的に扱いやすくなるが、外れ値が大きい場合、分散が過大推定されるので注意\n",
    "\n",
    "Normalization（正規化）\n",
    "$${x^{(i)}_{\\mathrm{norm}} = \\frac{x^{(i)} - x_{\\mathrm{min}}}{x_{\\mathrm{max}} - x_\\mathrm{min}}\n",
    "}$$\n",
    "\n",
    "データを無次元化して、一定のレンジに収まるようにする。\n",
    "（外れ値の外れ方も保存される）\n",
    "\n",
    "参考\n",
    "http://sebastianraschka.com/Articles/2014_about_feature_scaling.html\n",
    "\n"
   ]
  },
  {
   "cell_type": "code",
   "execution_count": 17,
   "metadata": {
    "collapsed": false
   },
   "outputs": [
    {
     "data": {
      "text/html": [
       "<div>\n",
       "<table border=\"1\" class=\"dataframe\">\n",
       "  <thead>\n",
       "    <tr style=\"text-align: right;\">\n",
       "      <th></th>\n",
       "      <th>N</th>\n",
       "      <th>Avg</th>\n",
       "      <th>Med</th>\n",
       "      <th>Std</th>\n",
       "    </tr>\n",
       "  </thead>\n",
       "  <tbody>\n",
       "    <tr>\n",
       "      <th>X0</th>\n",
       "      <td>47</td>\n",
       "      <td>9.448707e-18</td>\n",
       "      <td>-0.143323</td>\n",
       "      <td>1.0</td>\n",
       "    </tr>\n",
       "    <tr>\n",
       "      <th>X1</th>\n",
       "      <td>47</td>\n",
       "      <td>2.710598e-16</td>\n",
       "      <td>-0.226093</td>\n",
       "      <td>1.0</td>\n",
       "    </tr>\n",
       "  </tbody>\n",
       "</table>\n",
       "</div>"
      ],
      "text/plain": [
       "     N           Avg       Med  Std\n",
       "X0  47  9.448707e-18 -0.143323  1.0\n",
       "X1  47  2.710598e-16 -0.226093  1.0"
      ]
     },
     "execution_count": 17,
     "metadata": {},
     "output_type": "execute_result"
    }
   ],
   "source": [
    "def featureNormalize(X):\n",
    "    X_norm = X\n",
    "    mu = np.zeros((1,X.shape[1]))\n",
    "    sigma = np.zeros((1,X.shape[1]))\n",
    "    mu = np.average(X_norm, axis = 0)\n",
    "    sigma = np.std(X_norm, axis = 0)\n",
    "    X_norm = ( X_norm - mu )/sigma\n",
    "    return [X_norm, mu, sigma]\n",
    "\n",
    "X, mu, sigma = featureNormalize(X)\n",
    "df = basicStat(X)\n",
    "df\n",
    "\n",
    "\n"
   ]
  },
  {
   "cell_type": "markdown",
   "metadata": {},
   "source": [
    "## Gradient descent (最急降下法)\n",
    "\n",
    "最小（最大）値問題を数値的（⇔解析的）に解く手法の一つ。\n",
    "\n",
    "一般的にベクトルθを引数とする関数fに対して、以下の更新ルールでθを求める。\n",
    "\n",
    "$$\\theta := \\theta - \\alpha*\\frac{\\partial f}{\\partial \\theta}  $$\n",
    "\n",
    "重回帰モデルにおいては、コスト関数は二乗誤差、すなわち↓を最小にするパラメタを求める。\n",
    "\n",
    "$$J(\\theta) = \\dfrac {1}{2m} \\displaystyle \\sum_{i=1}^m \\left (h_\\theta (x^{(i)}) - y^{(i)} \\right)^2$$\n",
    "\n",
    "ここで\n",
    "$$\\frac{\\partial J(\\theta)}{\\partial \\theta_k} =　\\dfrac {1}{m} * \\sum\\limits_{i=1}^{m} (h_\\theta(x^{(i)}) - y^{(i)}) \\cdot x_k^{(i)} $$\n",
    "\n",
    "なので、それぞれのθに対して、以下のルールで収束するまでθを更新する。\n",
    "\n",
    "\\begin{align*}& \\; & \\theta_j := \\theta_j - \\alpha \\frac{1}{m} \\sum\\limits_{i=1}^{m} (h_\\theta(x^{(i)}) - y^{(i)}) \\cdot x_j^{(i)} \\; & \\text{for j := 0...n}\\end{align*}\n",
    "\n",
    "\n",
    "\n",
    "\n",
    "\n",
    "和記号を使わずに、すべて行列で表現しようとすると、\n",
    "\n",
    "$$J(\\theta) = \\dfrac {1}{2m} (\\theta X - y)^{T} (\\theta X - y)$$\n",
    "\n",
    "\n",
    "\\begin{align*}\\nabla J(\\theta)= \\frac 1m X^{T} (\\theta X - y) \\newline\\end{align*}\n",
    "\n",
    "ここで\n",
    "\n",
    "$$\\nabla J(\\theta)  = \\begin{bmatrix}\\frac{\\partial J(\\theta)}{\\partial \\theta_0}   \\newline \\frac{\\partial J(\\theta)}{\\partial \\theta_1}   \\newline \\vdots   \\newline \\frac{\\partial J(\\theta)}{\\partial \\theta_n} \\end{bmatrix}$$\n",
    "\n",
    "これにより、\n",
    "\n",
    "$$\\theta := \\theta - \\alpha \\nabla J(\\theta)$$\n"
   ]
  },
  {
   "cell_type": "code",
   "execution_count": 5,
   "metadata": {
    "collapsed": false,
    "scrolled": true
   },
   "outputs": [
    {
     "data": {
      "text/plain": [
       "<matplotlib.text.Text at 0x18839dc0e10>"
      ]
     },
     "execution_count": 5,
     "metadata": {},
     "output_type": "execute_result"
    },
    {
     "data": {
      "image/png": "[encoded data removed]",
      "text/plain": [
       "<matplotlib.figure.Figure at 0x1883c8b1400>"
      ]
     },
     "metadata": {},
     "output_type": "display_data"
    }
   ],
   "source": [
    "def gradientDescent(X, y, theta, alpha, num_iters):\n",
    "    m = len(y)\n",
    "    J_history = np.zeros((num_iters,1))\n",
    "    for i in range(0, num_iters):\n",
    "        theta = theta - (alpha/m) * np.transpose(X).dot(X.dot(theta) - y)\n",
    "        J_history[i] = computeCost(X,y,theta)\n",
    "    return [theta, J_history]\n",
    "\n",
    "def computeCost(X, y, theta):\n",
    "    m = len(y)\n",
    "    tmp = ( X.dot(theta) - y )\n",
    "    J = (1/(2*m)) * np.transpose(tmp).dot(tmp)\n",
    "    return J\n",
    "\n",
    "    \n",
    "'load data'\n",
    "data = np.loadtxt('C:/Users\\main/Documents/MATLAB/ex1/ex1data2.txt',delimiter=',',dtype='float')\n",
    "y = (data[:,(2)])\n",
    "' this bit was hard to find the way..'\n",
    "y = y[:, np.newaxis]\n",
    "X = data[:,(0,1)]\n",
    "m = len(X)\n",
    "'normalize data'\n",
    "X, mu, sigma = featureNormalize(X)\n",
    "'add intercept'\n",
    "X = np.c_[np.ones(m),X]\n",
    "\n",
    "'gradient descent'\n",
    "alpha = 0.01\n",
    "num_iters = 400\n",
    "theta = np.zeros((3,1))\n",
    "theta, J_history = gradientDescent(X, y, theta, alpha, num_iters)\n",
    "\n",
    "plt.plot(range(0,num_iters), J_history)\n",
    "plt.xlabel('Iterations')\n",
    "plt.ylabel('Cost')\n",
    "titleStr = 'Alpha =', str(alpha)\n",
    "plt.title(titleStr)\n",
    "\n"
   ]
  },
  {
   "cell_type": "markdown",
   "metadata": {
    "collapsed": true
   },
   "source": [
    "## 正規方程式 (Normal Equation)\n",
    "\n",
    "$$ y = X \\theta + \\epsilon$$\n",
    "\n",
    "は解析解をもつ（(X'X)の逆行列が存在する場合）\n",
    "\n",
    "$$\\theta = (X^{\\mathrm{T}}X)^{-1}X^{\\mathrm{T}}y$$\n",
    "\n",
    "逆行列が計算しない場合は、一般化逆行列（pythonではnumpy.linalg.pinv)で計算可能。\n",
    "\n",
    "ただし、逆行列が計算できないのは\n",
    "\n",
    "1. Xの要素が線形関係にある\n",
    "2. データ数に比べて、パラメタの数が大きすぎる\n",
    "\n",
    "場合。なので、計算ができるからと言って、安易に一般化逆行列を使わないほうがいい。\n",
    "2はすぐに気づくはず。1に注意。\n",
    "\n",
    "単純な重回帰であれば、iterationも不要だし、ahlpaも決めなくてもよいので、解析解の方がよい。\n",
    "パラメータ数を超えたら数値解の方が早くなる。\n"
   ]
  },
  {
   "cell_type": "code",
   "execution_count": 6,
   "metadata": {
    "collapsed": false,
    "slideshow": {
     "slide_type": "-"
    }
   },
   "outputs": [],
   "source": [
    "def normalEq(X,y):\n",
    "    theta = np.linalg.inv(np.transpose(X).dot(X)) \n",
    "    theta = theta.dot(np.transpose(X).dot(y))\n",
    "    return theta\n",
    "\n",
    "'normal equation'\n",
    "data = np.loadtxt('C:/Users/a5136731/Desktop/tmpSugi/ex1/ex1data2.txt',delimiter=',',dtype='float')\n",
    "y = (data[:,(2)])\n",
    "' this bit was hard..'\n",
    "y = y[:, np.newaxis]\n",
    "X = data[:,(0,1)]\n",
    "X = np.c_[np.ones(m),X]\n",
    "\n",
    "theta = normalEq(X,y);\n"
   ]
  }
 ],
 "metadata": {
  "celltoolbar": "Slideshow",
  "kernelspec": {
   "display_name": "Python 3",
   "language": "python",
   "name": "python3"
  },
  "language_info": {
   "codemirror_mode": {
    "name": "ipython",
    "version": 3
   },
   "file_extension": ".py",
   "mimetype": "text/x-python",
   "name": "python",
   "nbconvert_exporter": "python",
   "pygments_lexer": "ipython3",
   "version": "3.6.0"
  }
 },
 "nbformat": 4,
 "nbformat_minor": 2
}
